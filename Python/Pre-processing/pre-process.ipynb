{
 "cells": [
  {
   "cell_type": "code",
   "execution_count": 1,
   "id": "bef2f7e6-f5da-4421-93f7-72fb9b351721",
   "metadata": {},
   "outputs": [],
   "source": [
    "import numpy as np\n",
    "import matplotlib.pyplot as plt\n",
    "import pandas as pd"
   ]
  },
  {
   "cell_type": "code",
   "execution_count": 2,
   "id": "9643ba89-fa63-4c51-838e-875268cff47a",
   "metadata": {},
   "outputs": [],
   "source": [
    "dataset = pd.read_csv('Data.csv')\n",
    "x = dataset.iloc[:, :-1].values \n",
    "y = dataset.iloc[:, -1].values"
   ]
  },
  {
   "cell_type": "markdown",
   "id": "6a972e8c-cb85-4c23-a7dd-f676837d5901",
   "metadata": {},
   "source": [
    "### Replace Missing Numerical Data"
   ]
  },
  {
   "cell_type": "code",
   "execution_count": 3,
   "id": "dedbf920-e73d-4b66-8d8a-0fd8d59023ee",
   "metadata": {},
   "outputs": [],
   "source": [
    "from sklearn.impute import SimpleImputer\n",
    "imputer = SimpleImputer(missing_values = np.nan, strategy='mean') #average the column data for the missing values\n",
    "imputer.fit(x[:, 1:3]) #selecting all rows in numerical columns 1&2\n",
    "x[:, 1:3] = imputer.transform(x[:, 1:3]) #replace the missing data in the second and third columns"
   ]
  },
  {
   "cell_type": "markdown",
   "id": "706b021d-595e-4251-850e-10899aebd3f5",
   "metadata": {},
   "source": [
    "### Encoding Categorial Data"
   ]
  },
  {
   "cell_type": "code",
   "execution_count": 4,
   "id": "585787a2-ca19-4fab-871b-bcfee57cceb4",
   "metadata": {},
   "outputs": [],
   "source": [
    "# Encode Independent Variable - Country Column\n",
    "from sklearn.compose import ColumnTransformer\n",
    "from sklearn.preprocessing import OneHotEncoder #encodes categorical data as a 1 in a vector sized by the number of distinct values\n",
    "\n",
    "#first column  to transform, pass the rest of the data through\n",
    "ct = ColumnTransformer(transformers=[('encoder', OneHotEncoder(), [0])], remainder='passthrough') \n",
    "\n",
    "#replace x with the new numpy array of transformed column data as a vector\n",
    "x = np.array(ct.fit_transform(x))  "
   ]
  },
  {
   "cell_type": "code",
   "execution_count": 5,
   "id": "0a4ad1ce-521b-4b85-b99e-a906338a17c2",
   "metadata": {},
   "outputs": [],
   "source": [
    "# Encode Dependent Variable\n",
    "from sklearn.preprocessing import LabelEncoder\n",
    "le = LabelEncoder()\n",
    "y = le.fit_transform(y)"
   ]
  },
  {
   "cell_type": "markdown",
   "id": "a17e37a9-d032-457e-a026-f3ae59d3c00c",
   "metadata": {},
   "source": [
    "### Splitting the data into Training Set and Test Set\n",
    "Always before feature scaling!"
   ]
  },
  {
   "cell_type": "code",
   "execution_count": 6,
   "id": "074ffec3-077b-4d5a-80b2-62add8652ba1",
   "metadata": {},
   "outputs": [],
   "source": [
    "from sklearn.model_selection import train_test_split\n",
    "x_train, x_test, y_train, y_test = train_test_split(x, y, test_size = 0.2, random_state = 1) #random_state only needed as seed for example"
   ]
  },
  {
   "cell_type": "markdown",
   "id": "47d99b73-dc08-43c4-a6a3-14ccca59c977",
   "metadata": {},
   "source": [
    "### Feature Scaling\n",
    "Either Stadardization or Normalization\n",
    "Standardization works all the time  \n",
    "Normalization works well only when the data follows the normal curve  \n",
    "Don't feature scale dummy variables - (OneHot encoded category variables)  "
   ]
  },
  {
   "cell_type": "code",
   "execution_count": 8,
   "id": "6e25dda5-a180-4305-914f-cded570159d6",
   "metadata": {},
   "outputs": [],
   "source": [
    "from sklearn.preprocessing import StandardScaler\n",
    "sc = StandardScaler()\n",
    "x_train[:, 3:] = sc.fit_transform(x_train[:, 3:]) # numerical columns\n",
    "x_test[:, 3:] = sc.transform(x_test[:, 3:]) # scale the test set by the same scale of the TRAIN set"
   ]
  }
 ],
 "metadata": {
  "kernelspec": {
   "display_name": "Python 3",
   "language": "python",
   "name": "python3"
  },
  "language_info": {
   "codemirror_mode": {
    "name": "ipython",
    "version": 3
   },
   "file_extension": ".py",
   "mimetype": "text/x-python",
   "name": "python",
   "nbconvert_exporter": "python",
   "pygments_lexer": "ipython3",
   "version": "3.8.8"
  }
 },
 "nbformat": 4,
 "nbformat_minor": 5
}
