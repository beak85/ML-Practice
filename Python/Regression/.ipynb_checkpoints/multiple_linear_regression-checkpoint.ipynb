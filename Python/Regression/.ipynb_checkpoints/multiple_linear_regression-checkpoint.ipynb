{
 "cells": [
  {
   "cell_type": "markdown",
   "id": "fb85105b-bd0a-4922-a5f6-77896bf6be8f",
   "metadata": {},
   "source": [
    "### Pre-Process"
   ]
  },
  {
   "cell_type": "code",
   "execution_count": 1,
   "id": "efd7f696-93df-4ff4-b7e3-90c3a755c8e2",
   "metadata": {},
   "outputs": [],
   "source": [
    "import numpy as np\n",
    "import matplotlib.pyplot as plt\n",
    "import pandas as pd"
   ]
  },
  {
   "cell_type": "code",
   "execution_count": 2,
   "id": "11823ea2-41df-4f7c-a108-c1cbeaf5b9d6",
   "metadata": {},
   "outputs": [],
   "source": [
    "dataset = pd.read_csv('50_Startups.csv')\n",
    "x = dataset.iloc[:, :-1].values \n",
    "y = dataset.iloc[:, -1].values"
   ]
  },
  {
   "cell_type": "markdown",
   "id": "112aa548-28b6-4bb4-b2bc-7309559a8e02",
   "metadata": {},
   "source": [
    "### Encoding Categorical Data"
   ]
  },
  {
   "cell_type": "code",
   "execution_count": 3,
   "id": "e71abb0c-e238-45be-8f77-c1633e79df7b",
   "metadata": {},
   "outputs": [],
   "source": [
    "from sklearn.compose import ColumnTransformer\n",
    "from sklearn.preprocessing import OneHotEncoder\n",
    "\n",
    "# transform column 3 into Hot 1 vectors\n",
    "ct = ColumnTransformer(transformers=[('encoder', OneHotEncoder(), [3])], remainder='passthrough') \n",
    "# Replace with new transfomed column data as a vector\n",
    "x = np.array(ct.fit_transform(x))  "
   ]
  },
  {
   "cell_type": "markdown",
   "id": "a0ba3666-0c18-4fd1-9ed6-a50fe1c93321",
   "metadata": {},
   "source": [
    "### Splitting Data"
   ]
  },
  {
   "cell_type": "code",
   "execution_count": 4,
   "id": "dd45daec-99f1-48c1-b02d-b1cc8f06f7a3",
   "metadata": {},
   "outputs": [],
   "source": [
    "from sklearn.model_selection import train_test_split\n",
    "x_train, x_test, y_train, y_test = train_test_split(x, y, test_size = 0.2, random_state = 0)"
   ]
  },
  {
   "cell_type": "markdown",
   "id": "20c0c442-457d-48c3-aa81-89d6b2013508",
   "metadata": {},
   "source": [
    "### Training"
   ]
  },
  {
   "cell_type": "code",
   "execution_count": 5,
   "id": "2abb778b-9f73-4e16-a1c5-f903a484f3d3",
   "metadata": {},
   "outputs": [
    {
     "data": {
      "text/plain": [
       "LinearRegression()"
      ]
     },
     "execution_count": 5,
     "metadata": {},
     "output_type": "execute_result"
    }
   ],
   "source": [
    "from sklearn.linear_model import LinearRegression\n",
    "regressor = LinearRegression()\n",
    "regressor.fit(x_train, y_train)"
   ]
  },
  {
   "cell_type": "markdown",
   "id": "a0e3f1e6-c0c7-4715-b1aa-d1dcb2b16761",
   "metadata": {},
   "source": [
    "### Prediction"
   ]
  },
  {
   "cell_type": "code",
   "execution_count": 6,
   "id": "b77fe74a-43b1-48b1-9c1c-3f393ce3e375",
   "metadata": {},
   "outputs": [
    {
     "name": "stdout",
     "output_type": "stream",
     "text": [
      "[[103015.2  103282.38]\n",
      " [132582.28 144259.4 ]\n",
      " [132447.74 146121.95]\n",
      " [ 71976.1   77798.83]\n",
      " [178537.48 191050.39]\n",
      " [116161.24 105008.31]\n",
      " [ 67851.69  81229.06]\n",
      " [ 98791.73  97483.56]\n",
      " [113969.44 110352.25]\n",
      " [167921.07 166187.94]]\n"
     ]
    }
   ],
   "source": [
    "y_pred = regressor.predict(x_test)\n",
    "np.set_printoptions(precision = 2)\n",
    "print(np.concatenate((y_pred.reshape(len(y_pred), 1), y_test.reshape(len(y_test), 1)), axis=1))"
   ]
  },
  {
   "cell_type": "markdown",
   "id": "e150a849-3687-47d2-a137-64afe05553eb",
   "metadata": {},
   "source": [
    "### VPRediction\n",
    "R&D - 160000\n",
    "Admin - 130000\n",
    "Marketing - 300000\n",
    "State - California"
   ]
  },
  {
   "cell_type": "code",
   "execution_count": 8,
   "id": "87cd109a-3308-4719-9332-f51041237f06",
   "metadata": {},
   "outputs": [
    {
     "name": "stdout",
     "output_type": "stream",
     "text": [
      "[181566.92]\n"
     ]
    }
   ],
   "source": [
    "#Double squre brackets - predict wants 2-D array\n",
    "print(regressor.predict([[1,0,0, 160000, 130000, 300000]]))"
   ]
  },
  {
   "cell_type": "markdown",
   "id": "860b23ff-0c88-4b51-9c1e-77a89a7a7877",
   "metadata": {},
   "source": [
    "### Whats the Equation?"
   ]
  },
  {
   "cell_type": "code",
   "execution_count": 9,
   "id": "649012c2-13f8-42e8-be70-d1e1513950c9",
   "metadata": {},
   "outputs": [
    {
     "name": "stdout",
     "output_type": "stream",
     "text": [
      "[ 8.66e+01 -8.73e+02  7.86e+02  7.73e-01  3.29e-02  3.66e-02]\n",
      "42467.52924854249\n"
     ]
    }
   ],
   "source": [
    "print(regressor.coef_)\n",
    "print(regressor.intercept_)"
   ]
  },
  {
   "cell_type": "markdown",
   "id": "b5146395-deba-437a-b101-7352ccd781d3",
   "metadata": {},
   "source": [
    "Profit = 86.6*State1 -873*State2 +786*State3 + .773*R&D + .0329*Admin + .0366*Marketing + 43467.53"
   ]
  },
  {
   "cell_type": "code",
   "execution_count": null,
   "id": "ce0c5a81-6dae-4568-a00c-1c52adeba3bb",
   "metadata": {},
   "outputs": [],
   "source": []
  }
 ],
 "metadata": {
  "kernelspec": {
   "display_name": "Python 3",
   "language": "python",
   "name": "python3"
  },
  "language_info": {
   "codemirror_mode": {
    "name": "ipython",
    "version": 3
   },
   "file_extension": ".py",
   "mimetype": "text/x-python",
   "name": "python",
   "nbconvert_exporter": "python",
   "pygments_lexer": "ipython3",
   "version": "3.8.8"
  }
 },
 "nbformat": 4,
 "nbformat_minor": 5
}
